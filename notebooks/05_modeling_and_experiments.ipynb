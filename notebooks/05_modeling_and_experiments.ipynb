{
 "cells": [
  {
   "cell_type": "markdown",
   "id": "ea28b8f1",
   "metadata": {},
   "source": [
    "# 5. Моделирование и эксперименты\n",
    "\n",
    "## 🎯 Цели этапа\n",
    "1. Обучить и сравнить различные ML-алгоритмы\n",
    "2. Провести подбор гиперпараметров для лучших моделей\n",
    "3. Выбрать оптимальную модель для прогнозирования оттока\n",
    "4. Проанализировать feature importance\n",
    "\n",
    "## 📊 Данные для моделирования\n",
    "- Train: 12,802 наблюдений, 23 признака (после SMOTE)\n",
    "- Test: 2,001 наблюдение, 23 признака (оригинальное распределение)\n",
    "- Дисбаланс: 50/50 в train, 80/20 в test"
   ]
  },
  {
   "cell_type": "code",
   "execution_count": 1,
   "id": "1e6b5145",
   "metadata": {},
   "outputs": [
    {
     "name": "stdout",
     "output_type": "stream",
     "text": [
      "Модель: LogisticRegression. Результаты:\n",
      "\n",
      "Classification report:\n",
      "              precision    recall  f1-score   support\n",
      "\n",
      "           0       0.91      0.76      0.83      1593\n",
      "           1       0.43      0.70      0.53       408\n",
      "\n",
      "    accuracy                           0.75      2001\n",
      "   macro avg       0.67      0.73      0.68      2001\n",
      "weighted avg       0.81      0.75      0.77      2001\n",
      "\n",
      "--------------------------------------------------\n",
      "Модель: KNeighborsClassifier. Результаты:\n",
      "\n",
      "Classification report:\n",
      "              precision    recall  f1-score   support\n",
      "\n",
      "           0       0.89      0.76      0.82      1593\n",
      "           1       0.41      0.63      0.49       408\n",
      "\n",
      "    accuracy                           0.74      2001\n",
      "   macro avg       0.65      0.70      0.66      2001\n",
      "weighted avg       0.79      0.74      0.75      2001\n",
      "\n",
      "--------------------------------------------------\n",
      "Модель: DecisionTreeClassifier. Результаты:\n",
      "\n",
      "Classification report:\n",
      "              precision    recall  f1-score   support\n",
      "\n",
      "           0       0.87      0.81      0.84      1593\n",
      "           1       0.42      0.53      0.47       408\n",
      "\n",
      "    accuracy                           0.76      2001\n",
      "   macro avg       0.65      0.67      0.66      2001\n",
      "weighted avg       0.78      0.76      0.77      2001\n",
      "\n",
      "--------------------------------------------------\n",
      "Модель: RandomForestClassifier. Результаты:\n",
      "\n",
      "Classification report:\n",
      "              precision    recall  f1-score   support\n",
      "\n",
      "           0       0.89      0.90      0.90      1593\n",
      "           1       0.60      0.57      0.59       408\n",
      "\n",
      "    accuracy                           0.84      2001\n",
      "   macro avg       0.75      0.74      0.74      2001\n",
      "weighted avg       0.83      0.84      0.83      2001\n",
      "\n",
      "--------------------------------------------------\n",
      "Модель: XGBClassifier. Результаты:\n",
      "\n",
      "Classification report:\n",
      "              precision    recall  f1-score   support\n",
      "\n",
      "           0       0.89      0.92      0.91      1593\n",
      "           1       0.64      0.56      0.60       408\n",
      "\n",
      "    accuracy                           0.85      2001\n",
      "   macro avg       0.77      0.74      0.75      2001\n",
      "weighted avg       0.84      0.85      0.84      2001\n",
      "\n",
      "--------------------------------------------------\n",
      "Модель: LGBMClassifier. Результаты:\n",
      "\n",
      "Classification report:\n",
      "              precision    recall  f1-score   support\n",
      "\n",
      "           0       0.90      0.93      0.91      1593\n",
      "           1       0.67      0.58      0.62       408\n",
      "\n",
      "    accuracy                           0.86      2001\n",
      "   macro avg       0.78      0.75      0.76      2001\n",
      "weighted avg       0.85      0.86      0.85      2001\n",
      "\n",
      "--------------------------------------------------\n",
      "Модель: CatBoostClassifier. Результаты:\n",
      "\n",
      "Classification report:\n",
      "              precision    recall  f1-score   support\n",
      "\n",
      "           0       0.89      0.94      0.91      1593\n",
      "           1       0.69      0.56      0.62       408\n",
      "\n",
      "    accuracy                           0.86      2001\n",
      "   macro avg       0.79      0.75      0.77      2001\n",
      "weighted avg       0.85      0.86      0.85      2001\n",
      "\n",
      "--------------------------------------------------\n"
     ]
    }
   ],
   "source": [
    "import joblib\n",
    "import pandas as pd\n",
    "\n",
    "import sys\n",
    "import os\n",
    "\n",
    "os.chdir('..')\n",
    "\n",
    "sys.path.insert(0, 'src')\n",
    "\n",
    "from model_training import TrainModels\n",
    "from hyperparametr_config import MODEL_PARAMS_CONFIG\n",
    "from hyperparametr_tuner import HyperparametrTuner\n",
    "\n",
    "os.chdir('notebooks')\n",
    "\n",
    "X_train = joblib.load('../data/processed/X_train.pkl')\n",
    "X_test = joblib.load('../data/processed/X_test.pkl')\n",
    "y_train = joblib.load('../data/processed/y_train.pkl')\n",
    "y_test = joblib.load('../data/processed/y_test.pkl')\n",
    "\n",
    "trainer = TrainModels(X_train, X_test, y_train, y_test)\n",
    "\n",
    "models = trainer.fit_models()\n",
    "\n",
    "predictions_models = trainer.evaluate_models()\n",
    "\n",
    "for model_name, metric in predictions_models.items():\n",
    "    print(f'Модель: {model_name}. Результаты:')\n",
    "    print(f'\\nClassification report:\\n{metric[\"classification_report\"]}')\n",
    "    print('-'*50)"
   ]
  },
  {
   "cell_type": "code",
   "execution_count": 2,
   "id": "d5464145",
   "metadata": {},
   "outputs": [
    {
     "name": "stderr",
     "output_type": "stream",
     "text": [
      "[I 2025-10-10 14:04:41,883] A new study created in memory with name: no-name-4325bba4-aaee-4f89-8f42-f4e62d821038\n"
     ]
    },
    {
     "name": "stdout",
     "output_type": "stream",
     "text": [
      "🎯 Запуск подбора гиперпараметров для: ['catboost', 'lightgbm']\n",
      "\n",
      "🔍 Оптимизация catboost...\n"
     ]
    },
    {
     "name": "stderr",
     "output_type": "stream",
     "text": [
      "[I 2025-10-10 14:04:53,085] Trial 0 finished with value: 0.9677142772094951 and parameters: {'iterations': 781, 'depth': 8, 'learning_rate': 0.1205712628744377, 'l2_leaf_reg': 6.387926357773329, 'border_count': 66, 'random_strength': 1.6443457513284063, 'bagging_temperature': 0.05808361216819946}. Best is trial 0 with value: 0.9677142772094951.\n",
      "[I 2025-10-10 14:05:08,598] Trial 1 finished with value: 0.9661459270340185 and parameters: {'iterations': 1150, 'depth': 7, 'learning_rate': 0.11114989443094977, 'l2_leaf_reg': 1.185260448662222, 'border_count': 249, 'random_strength': 8.341182143924176, 'bagging_temperature': 0.21233911067827616}. Best is trial 0 with value: 0.9677142772094951.\n",
      "[I 2025-10-10 14:05:15,334] Trial 2 finished with value: 0.9579882182555428 and parameters: {'iterations': 636, 'depth': 4, 'learning_rate': 0.028145092716060652, 'l2_leaf_reg': 5.72280788469014, 'border_count': 128, 'random_strength': 2.983168487960615, 'bagging_temperature': 0.6118528947223795}. Best is trial 0 with value: 0.9677142772094951.\n",
      "[I 2025-10-10 14:05:22,371] Trial 3 finished with value: 0.9609853340200953 and parameters: {'iterations': 604, 'depth': 5, 'learning_rate': 0.03476649150592621, 'l2_leaf_reg': 5.104629857953324, 'border_count': 207, 'random_strength': 2.0767704433677614, 'bagging_temperature': 0.5142344384136116}. Best is trial 0 with value: 0.9677142772094951.\n",
      "[I 2025-10-10 14:05:29,601] Trial 4 finished with value: 0.9614496076416318 and parameters: {'iterations': 944, 'depth': 4, 'learning_rate': 0.07896186801026692, 'l2_leaf_reg': 2.5347171131856236, 'border_count': 46, 'random_strength': 9.493966818808, 'bagging_temperature': 0.9656320330745594}. Best is trial 0 with value: 0.9677142772094951.\n",
      "[I 2025-10-10 14:05:38,836] Trial 5 finished with value: 0.9592649137423355 and parameters: {'iterations': 1107, 'depth': 5, 'learning_rate': 0.013940346079873234, 'l2_leaf_reg': 7.158097238609412, 'border_count': 130, 'random_strength': 1.3081785249633104, 'bagging_temperature': 0.4951769101112702}. Best is trial 0 with value: 0.9677142772094951.\n",
      "[I 2025-10-10 14:05:46,262] Trial 6 finished with value: 0.9577071828610686 and parameters: {'iterations': 525, 'depth': 8, 'learning_rate': 0.024112898115291985, 'l2_leaf_reg': 6.962700559185838, 'border_count': 101, 'random_strength': 5.248673409660327, 'bagging_temperature': 0.5467102793432796}. Best is trial 0 with value: 0.9677142772094951.\n",
      "[I 2025-10-10 14:05:57,282] Trial 7 finished with value: 0.967801018922241 and parameters: {'iterations': 638, 'depth': 8, 'learning_rate': 0.13962563737015762, 'l2_leaf_reg': 9.455490474077703, 'border_count': 232, 'random_strength': 6.019209790229743, 'bagging_temperature': 0.9218742350231168}. Best is trial 7 with value: 0.967801018922241.\n",
      "[I 2025-10-10 14:06:01,639] Trial 8 finished with value: 0.922070978179945 and parameters: {'iterations': 566, 'depth': 4, 'learning_rate': 0.011662890273931383, 'l2_leaf_reg': 3.927972976869379, 'border_count': 119, 'random_strength': 2.78635541456157, 'bagging_temperature': 0.8287375091519293}. Best is trial 7 with value: 0.967801018922241.\n",
      "[I 2025-10-10 14:06:08,267] Trial 9 finished with value: 0.9628078615578584 and parameters: {'iterations': 767, 'depth': 5, 'learning_rate': 0.06333268775321843, 'l2_leaf_reg': 2.2683180247728636, 'border_count': 211, 'random_strength': 0.8380513724297312, 'bagging_temperature': 0.9868869366005173}. Best is trial 7 with value: 0.967801018922241.\n",
      "[I 2025-10-10 14:06:08,269] A new study created in memory with name: no-name-c2886c89-851f-4c2f-8f1b-992cae6cb3ce\n"
     ]
    },
    {
     "name": "stdout",
     "output_type": "stream",
     "text": [
      "✅ catboost: лучший roc_auc = 0.9678\n",
      "   Лучшие параметры: {'iterations': 638, 'depth': 8, 'learning_rate': 0.13962563737015762, 'l2_leaf_reg': 9.455490474077703, 'border_count': 232, 'random_strength': 6.019209790229743, 'bagging_temperature': 0.9218742350231168}\n",
      "\n",
      "🔍 Оптимизация lightgbm...\n"
     ]
    },
    {
     "name": "stderr",
     "output_type": "stream",
     "text": [
      "[I 2025-10-10 14:06:11,141] Trial 0 finished with value: 0.9611323643574081 and parameters: {'n_estimators': 531, 'max_depth': 8, 'learning_rate': 0.1205712628744377, 'num_leaves': 68, 'min_child_samples': 24, 'subsample': 0.662397808134481, 'colsample_bytree': 0.6232334448672797, 'reg_alpha': 8.661761457749352, 'reg_lambda': 6.011150117432088}. Best is trial 0 with value: 0.9611323643574081.\n",
      "[I 2025-10-10 14:06:13,301] Trial 1 finished with value: 0.9611953925876595 and parameters: {'n_estimators': 914, 'max_depth': 3, 'learning_rate': 0.2708160864249968, 'num_leaves': 87, 'min_child_samples': 29, 'subsample': 0.6727299868828402, 'colsample_bytree': 0.6733618039413735, 'reg_alpha': 3.0424224295953772, 'reg_lambda': 5.247564316322379}. Best is trial 1 with value: 0.9611953925876595.\n",
      "[I 2025-10-10 14:06:15,471] Trial 2 finished with value: 0.9597249980779656 and parameters: {'n_estimators': 597, 'max_depth': 4, 'learning_rate': 0.08012737503998542, 'num_leaves': 31, 'min_child_samples': 36, 'subsample': 0.7465447373174767, 'colsample_bytree': 0.7824279936868144, 'reg_alpha': 7.851759613930136, 'reg_lambda': 1.9967378215835974}. Best is trial 1 with value: 0.9611953925876595.\n",
      "[I 2025-10-10 14:06:19,431] Trial 3 finished with value: 0.9477643985501458 and parameters: {'n_estimators': 691, 'max_depth': 6, 'learning_rate': 0.011711509955524094, 'num_leaves': 69, 'min_child_samples': 25, 'subsample': 0.6260206371941118, 'colsample_bytree': 0.9795542149013333, 'reg_alpha': 9.656320330745594, 'reg_lambda': 8.08397348116461}. Best is trial 1 with value: 0.9611953925876595.\n",
      "[I 2025-10-10 14:06:20,222] Trial 4 finished with value: 0.9570278141929396 and parameters: {'n_estimators': 450, 'max_depth': 3, 'learning_rate': 0.1024932221692416, 'num_leaves': 55, 'min_child_samples': 21, 'subsample': 0.798070764044508, 'colsample_bytree': 0.6137554084460873, 'reg_alpha': 9.093204020787821, 'reg_lambda': 2.587799816000169}. Best is trial 1 with value: 0.9611953925876595.\n",
      "[I 2025-10-10 14:06:21,574] Trial 5 finished with value: 0.9574719056563575 and parameters: {'n_estimators': 862, 'max_depth': 4, 'learning_rate': 0.05864129169696527, 'num_leaves': 64, 'min_child_samples': 26, 'subsample': 0.9878338511058234, 'colsample_bytree': 0.9100531293444458, 'reg_alpha': 9.394989415641891, 'reg_lambda': 8.948273504276488}. Best is trial 1 with value: 0.9611953925876595.\n",
      "[I 2025-10-10 14:06:26,811] Trial 6 finished with value: 0.9601545891632828 and parameters: {'n_estimators': 788, 'max_depth': 8, 'learning_rate': 0.01351182947645082, 'num_leaves': 35, 'min_child_samples': 14, 'subsample': 0.7301321323053057, 'colsample_bytree': 0.7554709158757928, 'reg_alpha': 2.713490317738959, 'reg_lambda': 8.287375091519294}. Best is trial 1 with value: 0.9611953925876595.\n",
      "[I 2025-10-10 14:06:28,061] Trial 7 finished with value: 0.9591996003328273 and parameters: {'n_estimators': 510, 'max_depth': 4, 'learning_rate': 0.06333268775321843, 'num_leaves': 31, 'min_child_samples': 82, 'subsample': 0.6298202574719083, 'colsample_bytree': 0.9947547746402069, 'reg_alpha': 7.722447692966574, 'reg_lambda': 1.987156815341724}. Best is trial 1 with value: 0.9611953925876595.\n",
      "[I 2025-10-10 14:06:28,661] Trial 8 finished with value: 0.9606634177399977 and parameters: {'n_estimators': 106, 'max_depth': 7, 'learning_rate': 0.11069143219393454, 'num_leaves': 79, 'min_child_samples': 80, 'subsample': 0.6296178606936361, 'colsample_bytree': 0.7433862914177091, 'reg_alpha': 1.1586905952512971, 'reg_lambda': 8.631034258755935}. Best is trial 1 with value: 0.9611953925876595.\n",
      "[I 2025-10-10 14:06:30,491] Trial 9 finished with value: 0.9464210328014795 and parameters: {'n_estimators': 817, 'max_depth': 4, 'learning_rate': 0.012413189635294229, 'num_leaves': 45, 'min_child_samples': 39, 'subsample': 0.8918424713352255, 'colsample_bytree': 0.8550229885420852, 'reg_alpha': 8.872127425763265, 'reg_lambda': 4.722149251619493}. Best is trial 1 with value: 0.9611953925876595.\n"
     ]
    },
    {
     "name": "stdout",
     "output_type": "stream",
     "text": [
      "✅ lightgbm: лучший roc_auc = 0.9612\n",
      "   Лучшие параметры: {'n_estimators': 914, 'max_depth': 3, 'learning_rate': 0.2708160864249968, 'num_leaves': 87, 'min_child_samples': 29, 'subsample': 0.6727299868828402, 'colsample_bytree': 0.6733618039413735, 'reg_alpha': 3.0424224295953772, 'reg_lambda': 5.247564316322379}\n",
      "✅ Добавлено 2 настроенных моделей\n",
      "📊 Сравнение моделей:\n",
      "                    Model  Test ROC-AUC  Test F1  Train ROC-AUC  Train F1  \\\n",
      "6      CatBoostClassifier        0.8625   0.6168         0.9867    0.9409   \n",
      "5          LGBMClassifier        0.8611   0.6194         0.9844    0.9327   \n",
      "4           XGBClassifier        0.8488   0.6005         0.9957    0.9656   \n",
      "8          lightgbm_tuned        0.8484   0.5987         0.9862    0.9390   \n",
      "3  RandomForestClassifier        0.8480   0.5887         1.0000    1.0000   \n",
      "7          catboost_tuned        0.8413   0.5790         0.9999    0.9948   \n",
      "0      LogisticRegression        0.7930   0.5303         0.8197    0.7332   \n",
      "1    KNeighborsClassifier        0.7611   0.4923         0.9794    0.9102   \n",
      "2  DecisionTreeClassifier        0.6715   0.4691         1.0000    1.0000   \n",
      "\n",
      "   ROC-AUC Diff  F1 Diff  \n",
      "6        0.1242   0.3240  \n",
      "5        0.1234   0.3133  \n",
      "4        0.1469   0.3651  \n",
      "8        0.1378   0.3403  \n",
      "3        0.1520   0.4113  \n",
      "7        0.1586   0.4158  \n",
      "0        0.0267   0.2028  \n",
      "1        0.2183   0.4179  \n",
      "2        0.3285   0.5309  \n",
      "\n",
      "🏆 Лучшая модель: CatBoostClassifier с ROC-AUC = 0.8625\n"
     ]
    }
   ],
   "source": [
    "tuner = HyperparametrTuner(\n",
    "    X_train=X_train,\n",
    "    y_train=y_train,\n",
    "    params_config=MODEL_PARAMS_CONFIG,\n",
    "    n_trials=10\n",
    ")\n",
    "\n",
    "best_models_to_tune = ['catboost', 'lightgbm']\n",
    "best_params = tuner.tune_models(models_to_tune=best_models_to_tune)\n",
    "\n",
    "tuned_models = tuner.get_tuned_models()\n",
    "\n",
    "trainer.add_tuned_models(tuned_models)\n",
    "\n",
    "all_predictions = trainer.evaluate_models()\n",
    "\n",
    "comparison_df = trainer.compare_models_performance()\n",
    "print(\"📊 Сравнение моделей:\")\n",
    "print(comparison_df.round(4))\n",
    "\n",
    "best_model, best_score = trainer.get_best_model()\n",
    "print(f\"\\n🏆 Лучшая модель: {best_model} с ROC-AUC = {best_score:.4f}\")"
   ]
  },
  {
   "cell_type": "code",
   "execution_count": 3,
   "id": "470a3ffe",
   "metadata": {},
   "outputs": [],
   "source": [
    "MANUAL_BEST_PARAMS = {\n",
    "    'catboost': {\n",
    "        'iterations': 500,\n",
    "        'depth': 4,\n",
    "        'learning_rate': 0.05,\n",
    "        'l2_leaf_reg': 10,\n",
    "        'random_strength': 10,\n",
    "        'bagging_temperature': 0.8,\n",
    "        'leaf_estimation_iterations': 1,\n",
    "        'random_state': 42,\n",
    "        'verbose': False\n",
    "    },\n",
    "    'lightgbm': {\n",
    "        'n_estimators': 300,\n",
    "        'max_depth': 4,\n",
    "        'learning_rate': 0.05,\n",
    "        'num_leaves': 31,  # 2^max_depth - 1\n",
    "        'min_child_samples': 50,\n",
    "        'subsample': 0.8,\n",
    "        'colsample_bytree': 0.8,\n",
    "        'reg_alpha': 5,\n",
    "        'reg_lambda': 5,\n",
    "        'random_state': 42,\n",
    "        'verbose': -1\n",
    "    }\n",
    "}"
   ]
  },
  {
   "cell_type": "code",
   "execution_count": 4,
   "id": "52b62424",
   "metadata": {},
   "outputs": [
    {
     "name": "stdout",
     "output_type": "stream",
     "text": [
      "Manual CatBoost - Test AUC: 0.8765\n",
      "Manual CatBoost - Train AUC: 0.8845\n"
     ]
    }
   ],
   "source": [
    "from sklearn.metrics import roc_auc_score\n",
    "from sklearn.model_selection import train_test_split\n",
    "import pandas as pd\n",
    "\n",
    "df_processed = pd.read_csv('../data/bank_churn_preprocessing.csv')\n",
    "X_original = df_processed.drop('Exited', axis=1)\n",
    "y_original = df_processed['Exited']\n",
    "\n",
    "X_train_orig, X_test_orig, y_train_orig, y_test_orig = train_test_split(\n",
    "    X_original, y_original, test_size=0.2, random_state=42, stratify=y_original\n",
    ")\n",
    "\n",
    "from catboost import CatBoostClassifier\n",
    "\n",
    "catboost_manual = CatBoostClassifier(**MANUAL_BEST_PARAMS['catboost'])\n",
    "catboost_manual.fit(X_train_orig, y_train_orig)\n",
    "\n",
    "# Оцени\n",
    "y_pred_manual = catboost_manual.predict(X_test_orig)\n",
    "y_proba_manual = catboost_manual.predict_proba(X_test_orig)[:, 1]\n",
    "\n",
    "print(f\"Manual CatBoost - Test AUC: {roc_auc_score(y_test_orig, y_proba_manual):.4f}\")\n",
    "print(f\"Manual CatBoost - Train AUC: {roc_auc_score(y_train_orig, catboost_manual.predict_proba(X_train_orig)[:, 1]):.4f}\")"
   ]
  },
  {
   "cell_type": "code",
   "execution_count": 5,
   "id": "be6b5f18",
   "metadata": {},
   "outputs": [
    {
     "name": "stdout",
     "output_type": "stream",
     "text": [
      "Manual CatBoost - Test AUC: 0.8665\n",
      "Manual CatBoost - Train AUC: 0.9540\n"
     ]
    }
   ],
   "source": [
    "from catboost import CatBoostClassifier\n",
    "\n",
    "catboost_manual = CatBoostClassifier(**MANUAL_BEST_PARAMS['catboost'])\n",
    "catboost_manual.fit(X_train, y_train)\n",
    "\n",
    "# Оцени\n",
    "y_pred_manual = catboost_manual.predict(X_test)\n",
    "y_proba_manual = catboost_manual.predict_proba(X_test)[:, 1]\n",
    "\n",
    "print(f\"Manual CatBoost - Test AUC: {roc_auc_score(y_test, y_proba_manual):.4f}\")\n",
    "print(f\"Manual CatBoost - Train AUC: {roc_auc_score(y_train, catboost_manual.predict_proba(X_train)[:, 1]):.4f}\")"
   ]
  },
  {
   "cell_type": "markdown",
   "id": "ccf67f66",
   "metadata": {},
   "source": [
    "# !!! ВЫВОД: \n",
    "\n",
    "Из-за SMOTE данных, модель обучается на одних данных, а предсказывает на других, что искажает оценки. \n",
    "\n",
    "## МЕНЯЕМ МЕТОД БАЛАНСИРОВКИ"
   ]
  }
 ],
 "metadata": {
  "kernelspec": {
   "display_name": "bank-customer-churn-prediction-o7y5BeN5-py3.11",
   "language": "python",
   "name": "python3"
  },
  "language_info": {
   "codemirror_mode": {
    "name": "ipython",
    "version": 3
   },
   "file_extension": ".py",
   "mimetype": "text/x-python",
   "name": "python",
   "nbconvert_exporter": "python",
   "pygments_lexer": "ipython3",
   "version": "3.11.0"
  }
 },
 "nbformat": 4,
 "nbformat_minor": 5
}
