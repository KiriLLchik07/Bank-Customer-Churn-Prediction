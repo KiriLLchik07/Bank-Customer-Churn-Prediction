{
 "cells": [
  {
   "cell_type": "markdown",
   "id": "ea28b8f1",
   "metadata": {},
   "source": [
    "# 5. Моделирование и эксперименты\n",
    "\n",
    "## 🎯 Цели этапа\n",
    "1. Обучить и сравнить различные ML-алгоритмы\n",
    "2. Провести подбор гиперпараметров для лучших моделей\n",
    "3. Выбрать оптимальную модель для прогнозирования оттока\n",
    "4. Проанализировать feature importance\n",
    "\n",
    "## 📊 Данные для моделирования\n",
    "- Train: 12,802 наблюдений, 23 признака (после SMOTE)\n",
    "- Test: 2,001 наблюдение, 23 признака (оригинальное распределение)\n",
    "- Дисбаланс: 50/50 в train, 80/20 в test"
   ]
  },
  {
   "cell_type": "code",
   "execution_count": 1,
   "id": "1e6b5145",
   "metadata": {},
   "outputs": [
    {
     "name": "stdout",
     "output_type": "stream",
     "text": [
      "Модель: LogisticRegression. Результаты:\n",
      "ROC-AUC score: 0.7929652400822225\n",
      "F1-score: 0.5303454715219421\n",
      "\n",
      "Classification report:\n",
      "              precision    recall  f1-score   support\n",
      "\n",
      "           0       0.91      0.76      0.83      1593\n",
      "           1       0.43      0.70      0.53       408\n",
      "\n",
      "    accuracy                           0.75      2001\n",
      "   macro avg       0.67      0.73      0.68      2001\n",
      "weighted avg       0.81      0.75      0.77      2001\n",
      "\n",
      "--------------------------------------------------\n",
      "Модель: RandomForestClassifier. Результаты:\n",
      "ROC-AUC score: 0.8480045973191537\n",
      "F1-score: 0.5886792452830188\n",
      "\n",
      "Classification report:\n",
      "              precision    recall  f1-score   support\n",
      "\n",
      "           0       0.89      0.90      0.90      1593\n",
      "           1       0.60      0.57      0.59       408\n",
      "\n",
      "    accuracy                           0.84      2001\n",
      "   macro avg       0.75      0.74      0.74      2001\n",
      "weighted avg       0.83      0.84      0.83      2001\n",
      "\n",
      "--------------------------------------------------\n"
     ]
    }
   ],
   "source": [
    "import joblib\n",
    "\n",
    "import sys\n",
    "import os\n",
    "\n",
    "os.chdir('..')\n",
    "\n",
    "sys.path.insert(0, 'src')\n",
    "\n",
    "from model_training import TrainModels\n",
    "\n",
    "os.chdir('notebooks')\n",
    "\n",
    "X_train = joblib.load('../data/processed/X_train.pkl')\n",
    "X_test = joblib.load('../data/processed/X_test.pkl')\n",
    "y_train = joblib.load('../data/processed/y_train.pkl')\n",
    "y_test = joblib.load('../data/processed/y_test.pkl')\n",
    "\n",
    "trainer = TrainModels(X_train, X_test, y_train, y_test)\n",
    "\n",
    "baseline_models = trainer.fit_baseline_models()\n",
    "\n",
    "predictions_baseline_models = trainer.evaluate()\n",
    "\n",
    "for model_name, metric in predictions_baseline_models.items():\n",
    "    print(f'Модель: {model_name}. Результаты:')\n",
    "    print(f'ROC-AUC score: {metric[\"roc_auc_score\"]}')\n",
    "    print(f'F1-score: {metric[\"f1_score\"]}')\n",
    "    print(f'\\nClassification report:\\n{metric[\"classification_report\"]}')\n",
    "    print('-'*50)"
   ]
  }
 ],
 "metadata": {
  "kernelspec": {
   "display_name": "bank-customer-churn-prediction-o7y5BeN5-py3.11",
   "language": "python",
   "name": "python3"
  },
  "language_info": {
   "codemirror_mode": {
    "name": "ipython",
    "version": 3
   },
   "file_extension": ".py",
   "mimetype": "text/x-python",
   "name": "python",
   "nbconvert_exporter": "python",
   "pygments_lexer": "ipython3",
   "version": "3.11.0"
  }
 },
 "nbformat": 4,
 "nbformat_minor": 5
}
